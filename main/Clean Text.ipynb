{
 "cells": [
  {
   "cell_type": "code",
   "execution_count": null,
   "metadata": {},
   "outputs": [],
   "source": [
    "import contractions\n",
    "\n",
    "from nltk.stem import SnowballStemmer\n",
    "\n",
    "import re\n",
    "\n",
    "import pandas pd"
   ]
  },
  {
   "cell_type": "markdown",
   "metadata": {},
   "source": [
    "Function to process text and create new features"
   ]
  },
  {
   "cell_type": "code",
   "execution_count": null,
   "metadata": {},
   "outputs": [],
   "source": [
    "# Clean Text\n",
    "\n",
    "def cleantext(text):\n",
    "\n",
    "    text = text.lower().strip()\n",
    "    text = re.sub(r'@[A-za-z0-9]+','',text) # remove @mentions\n",
    "    text = re.sub(r'RT[\\s]+','',text) #remove retweet\n",
    "    text = re.sub(r'https?://\\S+','',text) #remove hyperlink\n",
    "    text = re.sub(r'#','',text) #remove #\n",
    "\n",
    "    text = text.replace('\\n',' ')\n",
    "\n",
    "    text = contractions.fix(text)\n",
    "\n",
    "    stemmer = SnowballStemmer(language='english')\n",
    "    text = stemmer.stem(text)\n",
    "    text = re.sub(\"[.,!?:;-=*'“()_]\", \"\",text) # remove puntucation\n",
    "    text = re.sub(\"[0123456789]\", \"\", text) # remove number\n",
    "\n",
    "    text = text.replace('  ','')\n",
    "\n",
    "    return text.strip()\n",
    " \n",
    "                                 \n",
    "#Convert emoji symbol to test and extract to new colum \n",
    "\n",
    "def demoji(text):\n",
    "    import emoji\n",
    "    process_text=emoji.demojize(text)\n",
    "    return process_text\n",
    "\n",
    "def find_emoji(text):\n",
    "    emoji_text=re.findall(':\\w+:',text)\n",
    "    return emoji_text\n",
    "def create_emoji_col(df,text_col):\n",
    "    df['emoji']=df[text_col].apply(lambda x:find_emoji(x) )\n",
    "    return df\n",
    "\n",
    "                  \n",
    "                  \n",
    "#modify hashtag col to only have hash tag text\n",
    "\n",
    "def get_hashtag_text(text):\n",
    "    text= re.findall(\"\\: \\'\\w+\\'\",text)\n",
    "    hash_tag_list=[]\n",
    "    for i in text:\n",
    "        hashtag=re.findall(\"\\w+\",i)\n",
    "        hashtag=hashtag[0] \n",
    "        hash_tag_list.append(hashtag)\n",
    "    \n",
    "    return hash_tag_list\n",
    "\n",
    "def modify_hashtags_col(df,hashtag_col):\n",
    "    df['Hashtags']=df[hashtag_col].apply(lambda x: get_hashtag_text(x))\n",
    "    return df"
   ]
  },
  {
   "cell_type": "code",
   "execution_count": null,
   "metadata": {},
   "outputs": [],
   "source": [
    "df=pd.read_csv('fake_meat.csv',index_col=0)\n",
    "\n",
    "#clean Text\n",
    "df['Clean_text']=df['Tweet Text'].apply(lambda text : cleantext(text))\n",
    "\n",
    "#Convert emoji symbol to test and extract to new colum \n",
    "df=create_emoji_col(df,'Tweet Text')\n",
    "\n",
    "\n",
    "#modify hashtag col to only have hash tag text\n",
    "df=modify_hashtags_col(df,'Hashtags')"
   ]
  },
  {
   "cell_type": "code",
   "execution_count": null,
   "metadata": {},
   "outputs": [],
   "source": [
    "#saving to new csv\n",
    "df.to_csv('fake_meat_clean.csv')"
   ]
  }
 ],
 "metadata": {
  "kernelspec": {
   "display_name": "Python 3",
   "language": "python",
   "name": "python3"
  },
  "language_info": {
   "codemirror_mode": {
    "name": "ipython",
    "version": 3
   },
   "file_extension": ".py",
   "mimetype": "text/x-python",
   "name": "python",
   "nbconvert_exporter": "python",
   "pygments_lexer": "ipython3",
   "version": "3.7.6"
  }
 },
 "nbformat": 4,
 "nbformat_minor": 4
}
