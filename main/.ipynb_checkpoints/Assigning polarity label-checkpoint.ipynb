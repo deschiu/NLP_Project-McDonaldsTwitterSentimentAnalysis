{
 "cells": [
  {
   "cell_type": "code",
   "execution_count": 2,
   "metadata": {},
   "outputs": [],
   "source": [
    "import keras\n",
    "\n",
    "import numpy as np\n",
    "\n",
    "import pandas as pd"
   ]
  },
  {
   "cell_type": "code",
   "execution_count": null,
   "metadata": {},
   "outputs": [],
   "source": [
    "# Get sentiment score using trained LSTM model\n",
    "def getpredict(csvpath,tweetcolumn):\n",
    "    \n",
    "    # Load LSTM model\n",
    "    model = keras.models.load_model(\"../twitter_sentiment_LSTM_model\")\n",
    "    \n",
    "    \n",
    "    #read csv\n",
    "    df = pd.read_csv(csvpath)\n",
    "    \n",
    "    # convert data to numpy\n",
    "    testdata = df[tweetcolumn].to_numpy()\n",
    "    with open('tokenizer.pickle', 'rb') as handle:\n",
    "        tokenizer = pickle.load(handle)\n",
    "    newinput = pad_sequences(tokenizer.texts_to_sequences(testdata),maxlen = 200)\n",
    "    \n",
    "    \n",
    "    #predict score\n",
    "    scores = model.predict(newinput)\n",
    "    scoredf = pd.DataFrame(scores,columns=['Score'])\n",
    "    finaldf = pd.concat([df,scoredf],axis=1)\n",
    "\n",
    "    return finaldf\n",
    "\n",
    "#Converting score to label\n",
    "def sentiment_class(score):\n",
    "    if score >= 0.5:\n",
    "        return \"Positive\"\n",
    "    else:\n",
    "        return \"Negative\"\n"
   ]
  },
  {
   "cell_type": "code",
   "execution_count": null,
   "metadata": {},
   "outputs": [],
   "source": [
    "# Read csv\n",
    "df=pd.read_csv('../data/fake_meat_clean.csv',index_col=0)\n",
    "\n",
    "#Getting Senitment Score\n",
    "df=getpredict('mcplant10k_date.csv','Tweet Text').to_csv('mcplant10k_date_with_score.csv',index=False)\n",
    "\n",
    "\n",
    "#Assigning Label\n",
    "df['Sentiment Class']=df['Score'].apply(lambda score: sentiment_class(score))\n",
    "\n",
    "\n",
    "#Save csv\n",
    "df.to_csv('final_csv')\n"
   ]
  }
 ],
 "metadata": {
  "kernelspec": {
   "display_name": "Python 3",
   "language": "python",
   "name": "python3"
  },
  "language_info": {
   "codemirror_mode": {
    "name": "ipython",
    "version": 3
   },
   "file_extension": ".py",
   "mimetype": "text/x-python",
   "name": "python",
   "nbconvert_exporter": "python",
   "pygments_lexer": "ipython3",
   "version": "3.7.6"
  }
 },
 "nbformat": 4,
 "nbformat_minor": 4
}
